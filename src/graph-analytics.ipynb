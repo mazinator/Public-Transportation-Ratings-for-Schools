{
 "cells": [
  {
   "cell_type": "markdown",
   "metadata": {},
   "source": [
    "# Graph Analytics\n",
    "\n",
    "This notebook is dedicated to provide some insights on the graph, answering the following questions:\n",
    "- What is the percentage of schools with rating of 2 or higher?\n",
    "- Which schools have the highest number of nearby Lines nearby / in the area?\n",
    "- Are there any schools which do not have any Line nearby 600m?\n",
    "- What's the average rating inside and outside of the first 9 districts?"
   ]
  },
  {
   "cell_type": "markdown",
   "metadata": {},
   "source": [
    "## Imports"
   ]
  },
  {
   "cell_type": "code",
   "execution_count": 33,
   "metadata": {},
   "outputs": [],
   "source": [
    "from neomodel import db, config\n",
    "from credentials import Credentials\n",
    "from models import *\n",
    "import json\n",
    "from shapely.geometry import Point, Polygon\n",
    "from pyproj import Transformer\n",
    "\n",
    "config.DATABASE_URL = Credentials.getNeo4JDatabaseURI()\n",
    "\n",
    "file_path = '../data/polygon-wien-bezirksgrenzen.json'\n",
    "with open(file_path, 'r') as f:\n",
    "    polygon_data = json.load(f)"
   ]
  },
  {
   "cell_type": "markdown",
   "metadata": {},
   "source": [
    "## Percentage of schools with rating 2 or higher"
   ]
  },
  {
   "cell_type": "code",
   "execution_count": 34,
   "metadata": {},
   "outputs": [
    {
     "data": {
      "text/plain": [
       "[[51.61290322580645]]"
      ]
     },
     "execution_count": 34,
     "metadata": {},
     "output_type": "execute_result"
    }
   ],
   "source": [
    "query = \"\"\"\n",
    "        MATCH (s:School)\n",
    "        WITH count(s) AS total_schools\n",
    "        MATCH (s:School)\n",
    "        WHERE s.rating >= 2\n",
    "        WITH total_schools, count(s) AS schools_with_rating_2_or_higher\n",
    "        RETURN (toFloat(schools_with_rating_2_or_higher) / total_schools) * 100 AS percentage_of_schools_with_rating_2_or_higher\n",
    "        \"\"\"\n",
    "results, _ = db.cypher_query(query)\n",
    "\n",
    "results"
   ]
  },
  {
   "cell_type": "markdown",
   "metadata": {},
   "source": [
    "## Schools with highest number of lines nearby / in the area"
   ]
  },
  {
   "cell_type": "code",
   "execution_count": 40,
   "metadata": {},
   "outputs": [
    {
     "data": {
      "text/plain": [
       "[['Gastgewerbefachschule des Schulvereins der Wiener Gastwirte', 22],\n",
       " ['PVS Judenplatz 6', 22],\n",
       " ['VS Stolberggasse 53', 21],\n",
       " ['VS Börsegasse 5', 21],\n",
       " ['Höhere Bundeslehr- und Versuchsanstalt für Textilindustrie und Informatik',\n",
       "  21]]"
      ]
     },
     "execution_count": 40,
     "metadata": {},
     "output_type": "execute_result"
    }
   ],
   "source": [
    "query = \"\"\"\n",
    "        MATCH (s:School)-[r:IS_IN_AREA]->() \n",
    "        WITH s, count(r) AS in_area_connections\n",
    "        MATCH (s)-[r:IS_NEARBY]->()\n",
    "        WITH s, in_area_connections, count(r) AS nearby_connections\n",
    "        RETURN s.name, (in_area_connections + nearby_connections) AS total_connections\n",
    "        ORDER BY total_connections DESC\n",
    "        LIMIT 5\n",
    "        \"\"\"\n",
    "results, _ = db.cypher_query(query)\n",
    "\n",
    "results"
   ]
  },
  {
   "cell_type": "markdown",
   "metadata": {},
   "source": [
    "## Non-connected schools"
   ]
  },
  {
   "cell_type": "code",
   "execution_count": 36,
   "metadata": {},
   "outputs": [
    {
     "data": {
      "text/plain": [
       "[['MS 22, Sonnenallee 116'],\n",
       " ['VS Hannah-Arendt-Platz 8'],\n",
       " ['VS 22, Sonnenallee 116'],\n",
       " ['BgBRg Maria-Trapp-Platz 5']]"
      ]
     },
     "execution_count": 36,
     "metadata": {},
     "output_type": "execute_result"
    }
   ],
   "source": [
    "query = \"\"\"\n",
    "        MATCH (s:School)\n",
    "        WHERE NOT (s)-[:IS_IN_AREA]->() AND NOT (s)-[:IS_NEARBY]->()\n",
    "        RETURN s.name\n",
    "        \"\"\"\n",
    "results, _ = db.cypher_query(query)\n",
    "\n",
    "results"
   ]
  },
  {
   "cell_type": "markdown",
   "metadata": {},
   "source": [
    "## Average ratings inside and outside of the first 9 districts"
   ]
  },
  {
   "cell_type": "code",
   "execution_count": 37,
   "metadata": {},
   "outputs": [],
   "source": [
    "# Transformer because the coordinates of polygon-wien-bezirksgrenzen.json are in a different format\n",
    "transformer = Transformer.from_crs(\"EPSG:4326\", \"EPSG:31256\", always_xy=True)\n",
    "\n",
    "# Extract coordinates from first 9 districts\n",
    "district_polygons = []\n",
    "for feature in polygon_data['features']:\n",
    "    district_number = feature['properties']['BEZNR']\n",
    "    if district_number < 10:\n",
    "        coordinates = feature['geometry']['coordinates'][0]\n",
    "        polygon = Polygon(coordinates)\n",
    "        district_polygons.append((district_number, polygon))\n",
    "\n",
    "def is_school_in_first_9_district(school_latitude, school_longitude):\n",
    "    transformed_longitude, transformed_latitude = transformer.transform(school_longitude, school_latitude)\n",
    "    point = Point(transformed_longitude, transformed_latitude) \n",
    "    for district_number, polygon in district_polygons:\n",
    "        if polygon.contains(point):\n",
    "            return district_number\n",
    "    return None\n"
   ]
  },
  {
   "cell_type": "code",
   "execution_count": 38,
   "metadata": {},
   "outputs": [],
   "source": [
    "def calculate_average_rating_inside_outside(school_data):\n",
    "    inside_ratings = []\n",
    "    outside_ratings = []\n",
    "\n",
    "    for school in school_data:\n",
    "        school_latitude = school['latitude']\n",
    "        school_longitude = school['longitude']\n",
    "        school_rating = school['rating']\n",
    "\n",
    "        inner_area = is_school_in_first_9_district(school_latitude, school_longitude)\n",
    "\n",
    "        if inner_area:\n",
    "            inside_ratings.append(school_rating)\n",
    "        else:\n",
    "            outside_ratings.append(school_rating)\n",
    "\n",
    "    inside_average = sum(inside_ratings) / len(inside_ratings) if inside_ratings else None\n",
    "    outside_average = sum(outside_ratings) / len(outside_ratings) if outside_ratings else None\n",
    "\n",
    "    return inside_average, outside_average\n"
   ]
  },
  {
   "cell_type": "code",
   "execution_count": 39,
   "metadata": {},
   "outputs": [
    {
     "data": {
      "text/plain": [
       "(1.5566037735849056, 2.1818181818181817)"
      ]
     },
     "execution_count": 39,
     "metadata": {},
     "output_type": "execute_result"
    }
   ],
   "source": [
    "query = \"\"\"\n",
    "        MATCH (s:School)\n",
    "        RETURN s.location_latitude AS latitude, s.location_longitude AS longitude, s.rating AS rating\n",
    "        \"\"\"\n",
    "results, _ = db.cypher_query(query)\n",
    "\n",
    "school_data = [\n",
    "    {\"latitude\": record[0], \"longitude\": record[1], \"rating\": record[2]}\n",
    "    for record in results\n",
    "]\n",
    "\n",
    "inside_avg, outside_avg = calculate_average_rating_inside_outside(school_data)\n",
    "\n",
    "inside_avg, outside_avg"
   ]
  }
 ],
 "metadata": {
  "kernelspec": {
   "display_name": "venv",
   "language": "python",
   "name": "python3"
  },
  "language_info": {
   "codemirror_mode": {
    "name": "ipython",
    "version": 3
   },
   "file_extension": ".py",
   "mimetype": "text/x-python",
   "name": "python",
   "nbconvert_exporter": "python",
   "pygments_lexer": "ipython3",
   "version": "3.12.6"
  }
 },
 "nbformat": 4,
 "nbformat_minor": 2
}
